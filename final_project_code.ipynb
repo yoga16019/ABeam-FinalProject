{
  "nbformat": 4,
  "nbformat_minor": 0,
  "metadata": {
    "colab": {
      "private_outputs": true,
      "provenance": [],
      "collapsed_sections": [
        "TgkMFmXyfvf6",
        "SXpIgBpfdTlZ",
        "cRa0fbdfv9n6"
      ]
    },
    "kernelspec": {
      "name": "python3",
      "display_name": "Python 3"
    },
    "language_info": {
      "name": "python"
    }
  },
  "cells": [
    {
      "cell_type": "code",
      "execution_count": null,
      "metadata": {
        "id": "9hvaut8HeK-S"
      },
      "outputs": [],
      "source": [
        "import pandas as pd\n",
        "import statistics\n",
        "import numpy as np\n",
        "import seaborn as sns\n",
        "from matplotlib import pyplot as plt\n",
        "import warnings\n",
        "warnings.filterwarnings('ignore')\n",
        "pd.set_option('display.max_columns', None)\n",
        "pd.set_option('display.max_rows', None)"
      ]
    },
    {
      "cell_type": "code",
      "source": [
        "from google.colab import drive\n",
        "drive.mount('/content/drive')"
      ],
      "metadata": {
        "id": "_ksaRr-NecNu"
      },
      "execution_count": null,
      "outputs": []
    },
    {
      "cell_type": "code",
      "source": [
        "data=pd.read_csv('/content/drive/MyDrive/abeam_final_project/cp_data_eng_full.csv') #import raw data\n"
      ],
      "metadata": {
        "id": "ifWUzrb2fSVF"
      },
      "execution_count": null,
      "outputs": []
    },
    {
      "cell_type": "code",
      "source": [
        "null_table=(data.isna().sum()*100/data.shape[0]).sort_values(ascending=False).to_frame().reset_index()\n",
        "\n",
        "null_table.rename({'index':'col',0:'null_percentage'},axis=1,inplace=True)\n",
        "\n",
        "null_table"
      ],
      "metadata": {
        "id": "WQcrdlhWfcxl"
      },
      "execution_count": null,
      "outputs": []
    },
    {
      "cell_type": "code",
      "source": [
        "#Percentage of missing value\n",
        "null1=(data.isnull().sum()/len(data)*100).sort_index(ascending=True)"
      ],
      "metadata": {
        "id": "xy6Om2l-ZAwb"
      },
      "execution_count": null,
      "outputs": []
    },
    {
      "cell_type": "code",
      "source": [
        "#Duplicated Data Check\n",
        "data.duplicated().sum()"
      ],
      "metadata": {
        "id": "t49jyfrVZR-J"
      },
      "execution_count": null,
      "outputs": []
    },
    {
      "cell_type": "code",
      "source": [
        "#Drop data who doesnt have response\n",
        "data_non_na=data.dropna(subset='Response')"
      ],
      "metadata": {
        "id": "Dobb3oc6ZawS"
      },
      "execution_count": null,
      "outputs": []
    },
    {
      "cell_type": "code",
      "source": [
        "#Percentage of missing value\n",
        "null2=(data_non_na.isnull().sum()/len(data_non_na)*100).sort_values(ascending=False)"
      ],
      "metadata": {
        "id": "tqit64zYw73l"
      },
      "execution_count": null,
      "outputs": []
    },
    {
      "cell_type": "code",
      "source": [
        "null2"
      ],
      "metadata": {
        "id": "KNennhmBrCx8"
      },
      "execution_count": null,
      "outputs": []
    },
    {
      "cell_type": "code",
      "source": [
        "null1-null2"
      ],
      "metadata": {
        "id": "s-dNFQSDq2uA"
      },
      "execution_count": null,
      "outputs": []
    },
    {
      "cell_type": "markdown",
      "source": [
        "# Univariate Analysis"
      ],
      "metadata": {
        "id": "yNVRMPiAfeZv"
      }
    },
    {
      "cell_type": "markdown",
      "source": [
        "## Card Information"
      ],
      "metadata": {
        "id": "_wg9UxkMfqjn"
      }
    },
    {
      "cell_type": "code",
      "source": [
        "card_information=['Card_type','Shopping','Cashing','ETC','Card_contraction','Card_grade','expiration_date','shopping_avg','cashing_avg','ETC_avg','shopping_rec','cashing_rec','ETC_rec']"
      ],
      "metadata": {
        "id": "qD4a47QjfuRl"
      },
      "execution_count": null,
      "outputs": []
    },
    {
      "cell_type": "code",
      "source": [
        "#change the category in Card_grade column\n",
        "print(data.Card_grade.value_counts().index  )"
      ],
      "metadata": {
        "id": "ShlW0QNakMDs"
      },
      "execution_count": null,
      "outputs": []
    },
    {
      "cell_type": "markdown",
      "source": [
        "### Card grade"
      ],
      "metadata": {
        "id": "ok4RrrjrZgKi"
      }
    },
    {
      "cell_type": "code",
      "source": [
        "#card grade\n",
        "data['Card_grade']=data['Card_grade'].str.replace('platinum loyal card','loyal(platinum)card')\n",
        "data['Card_grade']=data['Card_grade'].str.replace('loyal card','loyal(platinum)card')\n",
        "data['Card_grade']=data['Card_grade'].str.replace('platinum card','loyal(platinum)card')"
      ],
      "metadata": {
        "id": "EwvMT6RmYoc5"
      },
      "execution_count": null,
      "outputs": []
    },
    {
      "cell_type": "code",
      "source": [
        "def silver_god(x):\n",
        "  if x=='silver card (classic)':\n",
        "    return 'silver card'\n",
        "  elif x=='gold card(superior)':\n",
        "    return 'gold card'\n",
        "  else:\n",
        "    return x"
      ],
      "metadata": {
        "id": "MqbE2F0NY7Fb"
      },
      "execution_count": null,
      "outputs": []
    },
    {
      "cell_type": "code",
      "source": [
        "data['Card_grade']=data['Card_grade'].apply(silver_god) #nanti dicari"
      ],
      "metadata": {
        "id": "HM5McBb8YwOp"
      },
      "execution_count": null,
      "outputs": []
    },
    {
      "cell_type": "code",
      "source": [
        "data.Card_grade.value_counts()*100/data.shape[0]"
      ],
      "metadata": {
        "id": "4GdE6-HMGKYg"
      },
      "execution_count": null,
      "outputs": []
    },
    {
      "cell_type": "code",
      "source": [],
      "metadata": {
        "id": "CcAdBexCZj2a"
      },
      "execution_count": null,
      "outputs": []
    },
    {
      "cell_type": "markdown",
      "source": [
        "## Questionnaire"
      ],
      "metadata": {
        "id": "V4KNeWCahkkb"
      }
    },
    {
      "cell_type": "code",
      "source": [
        "for i in range(1,6):\n",
        "    print(data['questionnaire'+str(i)].value_counts())\n",
        "    print('')\n",
        "#this result I think quetionnaire doesn't give good information because majority of people doesn't fill the quetionnaire.Ask the client if the client have large number asnswered questionnaire"
      ],
      "metadata": {
        "id": "Q4ukredXn7fd"
      },
      "execution_count": null,
      "outputs": []
    },
    {
      "cell_type": "markdown",
      "source": [
        "## Util"
      ],
      "metadata": {
        "id": "zcLjThKoVPj8"
      }
    },
    {
      "cell_type": "code",
      "source": [
        "charge=[i for i in data.columns if 'charge_' in i]\n",
        "charge.remove('charge_avg_per_mon')\n",
        "charge.remove('charge_lmon')\n"
      ],
      "metadata": {
        "id": "RMbewQohVROG"
      },
      "execution_count": null,
      "outputs": []
    },
    {
      "cell_type": "code",
      "source": [
        "data[charge]=data[charge].fillna(0)"
      ],
      "metadata": {
        "id": "KFjQQaeFWEo_"
      },
      "execution_count": null,
      "outputs": []
    },
    {
      "cell_type": "code",
      "source": [
        "data['charge_weekday']=data['charge_Monday']+data['charge_Tuesday']+data['charge_Wednesday']+data['charge_Thursday']+data['charge_Friday']\n",
        "data['charge_weekend']=data['charge_Saturday']+data['charge_Sunday']"
      ],
      "metadata": {
        "id": "EntHvUKyVXqU"
      },
      "execution_count": null,
      "outputs": []
    },
    {
      "cell_type": "code",
      "source": [
        "data.drop(charge,axis=1,inplace=True)"
      ],
      "metadata": {
        "id": "wSwVNZoCWzhE"
      },
      "execution_count": null,
      "outputs": []
    },
    {
      "cell_type": "markdown",
      "source": [
        "# Bivariate"
      ],
      "metadata": {
        "id": "j982kZ7siZ7e"
      }
    },
    {
      "cell_type": "markdown",
      "source": [
        "## Makes New features based on shoping,cashing,ETC"
      ],
      "metadata": {
        "id": "TgkMFmXyfvf6"
      }
    },
    {
      "cell_type": "code",
      "source": [
        "#card function column\n",
        "\n",
        "def card_func(row):\n",
        "    if row['Shopping']==1 and row['Cashing']==0  and row['ETC']==0:\n",
        "        return 'S'\n",
        "    elif row['Shopping']==0 and row['Cashing']==1  and row['ETC']==0:\n",
        "        return 'C'\n",
        "    elif row['Shopping']==0 and row['Cashing']==0  and row['ETC']==1:\n",
        "        return 'E'\n",
        "    elif row['Shopping']==1 and row['Cashing']==1  and row['ETC']==0:\n",
        "        return 'SC'\n",
        "    elif row['Shopping']==1 and row['Cashing']==0  and row['ETC']==1:\n",
        "        return 'SE'\n",
        "    elif row['Shopping']==0 and row['Cashing']==1  and row['ETC']==1:\n",
        "        return 'CE'\n",
        "    elif row['Shopping']==1 and row['Cashing']==1  and row['ETC']==1:\n",
        "        return 'SCE'\n",
        "    elif row['Shopping']==0 and row['Cashing']==0  and row['ETC']==0:\n",
        "        return 'none' #card doesn't have any function\n",
        "\n",
        "data['card_func']=data.apply(card_func,axis=1)\n"
      ],
      "metadata": {
        "id": "rwIcVKL9fy9R"
      },
      "execution_count": null,
      "outputs": []
    },
    {
      "cell_type": "markdown",
      "source": [
        "## Card_contraction & Expiration Date"
      ],
      "metadata": {
        "id": "SXpIgBpfdTlZ"
      }
    },
    {
      "cell_type": "code",
      "source": [
        "#for bivariate process\n",
        "data['Card_contraction']=pd.to_datetime(data.Card_contraction)\n",
        "data['expiration_date']=pd.to_datetime(data.expiration_date)\n",
        "data['card_duration(years)']=(data['expiration_date']-data['Card_contraction']).dt.days/365  #make new variable card duraiton"
      ],
      "metadata": {
        "id": "263yPcfudZaA"
      },
      "execution_count": null,
      "outputs": []
    },
    {
      "cell_type": "code",
      "source": [],
      "metadata": {
        "id": "H5zT19NOdknu"
      },
      "execution_count": null,
      "outputs": []
    },
    {
      "cell_type": "markdown",
      "source": [
        "## Card_contraction & contraction_year,contraction_mon,contraction_day"
      ],
      "metadata": {
        "id": "GA4CaQG9dk-a"
      }
    },
    {
      "cell_type": "code",
      "source": [
        "#for bivairate process\n",
        "data['contraction_year']=data.Card_contraction.dt.year\n",
        "data['contraction_mon']=data.Card_contraction.dt.month\n",
        "data['contraction_day_JP']=data.Card_contraction.dt.day_name()\n"
      ],
      "metadata": {
        "id": "SU0Q7uMHdrwD"
      },
      "execution_count": null,
      "outputs": []
    },
    {
      "cell_type": "code",
      "source": [],
      "metadata": {
        "id": "2dZdi0yLeL8Y"
      },
      "execution_count": null,
      "outputs": []
    },
    {
      "cell_type": "markdown",
      "source": [
        "## Age & generations"
      ],
      "metadata": {
        "id": "tTDeWSn6eMIw"
      }
    },
    {
      "cell_type": "code",
      "source": [
        "#for bivariate process\n",
        "data[data.Age>100][['Age','generation']]"
      ],
      "metadata": {
        "id": "9WZslPTJeScx"
      },
      "execution_count": null,
      "outputs": []
    },
    {
      "cell_type": "code",
      "source": [
        "data[(data.Age.isna())&(~data.generation.isna())][['Age','generation']]"
      ],
      "metadata": {
        "id": "rslZjBy8eYHz"
      },
      "execution_count": null,
      "outputs": []
    },
    {
      "cell_type": "code",
      "source": [
        "#cleaning age based on generations\n",
        "data.loc[data.Age>100,'Age']=45 #replace with more reasonable value\n",
        "age_nul=data[(data.Age.isna())&(~data.generation.isna())][['Age','generation']] #fill nan value with generation column\n",
        "age_nul['Age_new']=age_nul['generation'].str[:2].astype(int)+5\n",
        "data.loc[(data.Age.isna())&(~data.generation.isna()),['Age']]=age_nul['Age_new']"
      ],
      "metadata": {
        "id": "mRX0FdfmeY-p"
      },
      "execution_count": null,
      "outputs": []
    },
    {
      "cell_type": "code",
      "source": [
        "#cleaning generations based on age\n",
        "def generation_new(age):\n",
        "        try:\n",
        "            new_gen=str(int(np.floor(age / 10) * 10))+'s'\n",
        "            return new_gen\n",
        "        except:\n",
        "            return np.nan\n",
        "data['generation']=data['Age'].apply(generation_new)"
      ],
      "metadata": {
        "id": "aPeTewpjegyZ"
      },
      "execution_count": null,
      "outputs": []
    },
    {
      "cell_type": "code",
      "source": [
        "data[['generation','Age']].isna().sum()/data.shape[0]"
      ],
      "metadata": {
        "id": "I5WMDaJUeqQg"
      },
      "execution_count": null,
      "outputs": []
    },
    {
      "cell_type": "markdown",
      "source": [
        "# Multivariate Analysis"
      ],
      "metadata": {
        "id": "UVwPn7eXeTtq"
      }
    },
    {
      "cell_type": "markdown",
      "source": [
        "## Drop column"
      ],
      "metadata": {
        "id": "JkNx4gtDVnIz"
      }
    },
    {
      "cell_type": "code",
      "source": [
        "data.dropna(subset='Response', inplace=True) #drop row with null response value"
      ],
      "metadata": {
        "id": "tcPc9Pv0WKBD"
      },
      "execution_count": null,
      "outputs": []
    },
    {
      "cell_type": "code",
      "source": [
        "#drop questionnaire\n",
        "data.drop(['questionnaire1','questionnaire2','questionnaire3','questionnaire4','questionnaire5'],axis=1,inplace=True)  #drop quotinaire"
      ],
      "metadata": {
        "id": "QzSOA7IcVpdj"
      },
      "execution_count": null,
      "outputs": []
    },
    {
      "cell_type": "code",
      "source": [
        "missing_values = (data.isnull().sum()/len(data)*100).reset_index()\n",
        "column_to_drop = list(missing_values[missing_values[0] >= 60]['index'].unique()) #drop nan value more than 70 %\n",
        "\n",
        "data.drop(column_to_drop, axis=1, inplace=True)"
      ],
      "metadata": {
        "id": "kE2MLk7HVpgK"
      },
      "execution_count": null,
      "outputs": []
    },
    {
      "cell_type": "code",
      "source": [
        "#data.drop(['Shopping','Cashing','ETC'],axis=1,inplace=True) #drop shopping ,cashing,ETC\n",
        "data.drop('contraction_day',axis=1,inplace=True)   #drop contraction day"
      ],
      "metadata": {
        "id": "o3pHg-ZOeVwi"
      },
      "execution_count": null,
      "outputs": []
    },
    {
      "cell_type": "code",
      "source": [
        "usage_avg_mon = [i for i in data.columns if 'avg_mon' in i]\n",
        "usage_avg_lmon = [i for i in data.columns if 'avg_lmon' in i]"
      ],
      "metadata": {
        "id": "ZfJIi9_rSEov"
      },
      "execution_count": null,
      "outputs": []
    },
    {
      "cell_type": "code",
      "source": [
        "usage_avg_lmon"
      ],
      "metadata": {
        "id": "9SC5ztlTSIH_"
      },
      "execution_count": null,
      "outputs": []
    },
    {
      "cell_type": "code",
      "source": [
        "#drop date colomn\n",
        "date_feat = data.select_dtypes('datetime64').columns.tolist() + ['max_used_date', 'min_used_date']\n",
        "data.drop(date_feat,axis=1,inplace=True)"
      ],
      "metadata": {
        "id": "MLgQSZlqRQGC"
      },
      "execution_count": null,
      "outputs": []
    },
    {
      "cell_type": "code",
      "source": [
        "#Drop age because with generation, we will make personal more easy\n",
        "data.drop('generation', axis=1, inplace=True)"
      ],
      "metadata": {
        "id": "69d97Ixgly4c"
      },
      "execution_count": null,
      "outputs": []
    },
    {
      "cell_type": "code",
      "source": [
        "(data.isnull().sum()/len(data)*100).sort_values(ascending=False)"
      ],
      "metadata": {
        "id": "MpvUDmbRZ5ka"
      },
      "execution_count": null,
      "outputs": []
    },
    {
      "cell_type": "code",
      "source": [
        "data.drop_duplicates(subset=['Customer_ID'],inplace=True)"
      ],
      "metadata": {
        "id": "XZzz1mW_wkfC"
      },
      "execution_count": null,
      "outputs": []
    },
    {
      "cell_type": "code",
      "source": [
        "data.drop(['Customer_ID','NO'],axis=1,inplace=True)"
      ],
      "metadata": {
        "id": "VBPiP4W7dg9g"
      },
      "execution_count": null,
      "outputs": []
    },
    {
      "cell_type": "code",
      "source": [
        "charge=[i for i in data.columns if 'charge_' in i]\n",
        "charge"
      ],
      "metadata": {
        "id": "jcX7x1oOVzQm"
      },
      "execution_count": null,
      "outputs": []
    },
    {
      "cell_type": "markdown",
      "source": [
        "## FIll nan value"
      ],
      "metadata": {
        "id": "X1ldCEYeaMbK"
      }
    },
    {
      "cell_type": "code",
      "source": [
        "(data.isnull().sum()/len(data)*100).sort_values(ascending=False)"
      ],
      "metadata": {
        "id": "YsLZ6N63XhmN"
      },
      "execution_count": null,
      "outputs": []
    },
    {
      "cell_type": "code",
      "source": [],
      "metadata": {
        "id": "OSwFFtvJX3Mt"
      },
      "execution_count": null,
      "outputs": []
    },
    {
      "cell_type": "markdown",
      "source": [
        "### numeric"
      ],
      "metadata": {
        "id": "Yq7jGkquXVDE"
      }
    },
    {
      "cell_type": "code",
      "source": [
        "numeric=['ETC_avg','ETC_rec','travel_avg_lmon','travel_avg_mon','speciality_avg_lmon','speciality_avg_mon','cashing_avg_mon','cashing_avg_lmon','cashing_avg','cashing_rec','shopping_rec','shopping_avg']"
      ],
      "metadata": {
        "id": "LmK3vA1pT-f9"
      },
      "execution_count": null,
      "outputs": []
    },
    {
      "cell_type": "code",
      "source": [
        "for i in numeric:\n",
        "  data[i].fillna(data[i].mean(), inplace=True)"
      ],
      "metadata": {
        "id": "dt89llbsYdbx"
      },
      "execution_count": null,
      "outputs": []
    },
    {
      "cell_type": "code",
      "source": [
        "data[numeric].isna().sum()"
      ],
      "metadata": {
        "id": "ERsktD6SYXYV"
      },
      "execution_count": null,
      "outputs": []
    },
    {
      "cell_type": "code",
      "source": [],
      "metadata": {
        "id": "pZCDsIlpZWKF"
      },
      "execution_count": null,
      "outputs": []
    },
    {
      "cell_type": "markdown",
      "source": [
        "### categorical"
      ],
      "metadata": {
        "id": "RbP5zRg-ZWbW"
      }
    },
    {
      "cell_type": "code",
      "source": [
        "#Change general payer to the same word\n",
        "def job(row):\n",
        "  if row in ['general payer1','general payer2','general payer3']:\n",
        "    x = 'general payer'\n",
        "  else:\n",
        "    x = row\n",
        "  return x\n",
        "\n",
        "data['Job'] = data['Job'].apply(job)\n",
        "data['Job'].fillna(data['Job'].mode()[0], inplace=True)"
      ],
      "metadata": {
        "id": "9qHSuqj5ZXx7"
      },
      "execution_count": null,
      "outputs": []
    },
    {
      "cell_type": "code",
      "source": [
        "data['marriage'].fillna(data['marriage'].mode()[0], inplace=True)"
      ],
      "metadata": {
        "id": "FssZcE6yZblW"
      },
      "execution_count": null,
      "outputs": []
    },
    {
      "cell_type": "markdown",
      "source": [
        "## Last Drop"
      ],
      "metadata": {
        "id": "yw_IOYR5JO1C"
      }
    },
    {
      "cell_type": "code",
      "source": [
        "data.info()"
      ],
      "metadata": {
        "id": "OUS1CJgVb00k"
      },
      "execution_count": null,
      "outputs": []
    },
    {
      "cell_type": "code",
      "source": [
        "data.drop(['charge_weekend','charge_weekday','On_the_job'],axis=1,inplace=True)"
      ],
      "metadata": {
        "id": "IUuv6MFdaPnb"
      },
      "execution_count": null,
      "outputs": []
    },
    {
      "cell_type": "code",
      "source": [
        "data.drop(list(data.columns[18:32])+list(data.columns[37:43])+['On_the_job','card_func','Card_grade','No_records',' No_member_store_use'],axis=1,inplace=True)"
      ],
      "metadata": {
        "id": "T22FwwSuA6qV"
      },
      "execution_count": null,
      "outputs": []
    },
    {
      "cell_type": "markdown",
      "source": [
        "## One Hot Encoding"
      ],
      "metadata": {
        "id": "cRa0fbdfv9n6"
      }
    },
    {
      "cell_type": "code",
      "source": [
        "data.info()"
      ],
      "metadata": {
        "id": "9oVCGaY4C_3N"
      },
      "execution_count": null,
      "outputs": []
    },
    {
      "cell_type": "code",
      "source": [
        "# convert all columns to string except float 64\n",
        "cols_to_convert = data.columns[data.dtypes == 'object'].tolist()+['Shopping','Cashing','ETC']\n",
        "data[cols_to_convert] = data[cols_to_convert].astype(str)"
      ],
      "metadata": {
        "id": "6I-BHTTYyXmh"
      },
      "execution_count": null,
      "outputs": []
    },
    {
      "cell_type": "code",
      "source": [
        "cols_to_convert =  data.columns[data.dtypes=='object'].tolist()\n",
        "cols_to_convert.remove('Response')\n",
        "\n",
        "encoded_data = pd.get_dummies(data[cols_to_convert])\n"
      ],
      "metadata": {
        "id": "lwPa0ie_zmkZ"
      },
      "execution_count": null,
      "outputs": []
    },
    {
      "cell_type": "code",
      "source": [
        "cols_not_convert =  data.columns[data.dtypes!='object'].tolist()"
      ],
      "metadata": {
        "id": "K1BkjB7rL-gI"
      },
      "execution_count": null,
      "outputs": []
    },
    {
      "cell_type": "code",
      "source": [
        "cols_not_convert"
      ],
      "metadata": {
        "id": "yLB4rjfWL_WB"
      },
      "execution_count": null,
      "outputs": []
    },
    {
      "cell_type": "code",
      "source": [
        "features=pd.concat([encoded_data,data[cols_not_convert]],axis=1)"
      ],
      "metadata": {
        "id": "_ItmlRb9Mscq"
      },
      "execution_count": null,
      "outputs": []
    },
    {
      "cell_type": "code",
      "source": [],
      "metadata": {
        "id": "X1GPzEAgL_ew"
      },
      "execution_count": null,
      "outputs": []
    },
    {
      "cell_type": "markdown",
      "source": [
        "## Tree Visualization"
      ],
      "metadata": {
        "id": "l2GD2lIytMNh"
      }
    },
    {
      "cell_type": "code",
      "source": [
        "from sklearn.tree import DecisionTreeClassifier\n",
        "\n",
        "Y = data['Response']\n",
        "X = features\n",
        "\n",
        "dt = DecisionTreeClassifier(random_state=42, max_depth = 3)\n",
        "dt.fit(X,Y)"
      ],
      "metadata": {
        "id": "VZVQXcFvtOJF"
      },
      "execution_count": null,
      "outputs": []
    },
    {
      "cell_type": "code",
      "source": [
        "Y.value_counts()"
      ],
      "metadata": {
        "id": "FX1d6eAb5Cxf"
      },
      "execution_count": null,
      "outputs": []
    },
    {
      "cell_type": "code",
      "source": [
        "importances = pd.DataFrame({'feature': X.columns, 'importance': dt.feature_importances_})\n",
        "\n",
        "# Sort the dataframe by feature importances in descending order\n",
        "importances = importances.sort_values('importance', ascending=False)\n",
        "\n",
        "# Print the table of feature importances\n",
        "print(importances)\n"
      ],
      "metadata": {
        "id": "NB0Hbt2r8SeY"
      },
      "execution_count": null,
      "outputs": []
    },
    {
      "cell_type": "code",
      "source": [
        "from sklearn.tree import DecisionTreeClassifier, export_graphviz\n",
        "import graphviz\n",
        "\n",
        "dot_data = export_graphviz(dt, feature_names=X.columns,  class_names=np.array(['no reply','reply']),filled=True, rounded=True)\n",
        "graph = graphviz.Source(dot_data)\n",
        "graph"
      ],
      "metadata": {
        "id": "C2r3CG_x1Gvx"
      },
      "execution_count": null,
      "outputs": []
    }
  ]
}